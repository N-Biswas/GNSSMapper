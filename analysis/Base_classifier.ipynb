{
 "cells": [
  {
   "cell_type": "markdown",
   "metadata": {},
   "source": [
    "# NLOS/LOS Classifcation\n",
    "\n",
    "In this notebook, we produce simple classfiers to determine whether we can distinguish between line of sight / non-line of sight GNSS observations using signal characteristics. We firstly import the dataset into a Pandas DataFrame before further processing.\n"
   ]
  },
  {
   "cell_type": "code",
   "execution_count": 38,
   "metadata": {},
   "outputs": [],
   "source": [
    "import pandas as pd\n",
    "import matplotlib.pyplot as plt"
   ]
  },
  {
   "cell_type": "code",
   "execution_count": 50,
   "metadata": {},
   "outputs": [
    {
     "data": {
      "text/html": [
       "<div>\n",
       "<style scoped>\n",
       "    .dataframe tbody tr th:only-of-type {\n",
       "        vertical-align: middle;\n",
       "    }\n",
       "\n",
       "    .dataframe tbody tr th {\n",
       "        vertical-align: top;\n",
       "    }\n",
       "\n",
       "    .dataframe thead th {\n",
       "        text-align: right;\n",
       "    }\n",
       "</style>\n",
       "<table border=\"1\" class=\"dataframe\">\n",
       "  <thead>\n",
       "    <tr style=\"text-align: right;\">\n",
       "      <th></th>\n",
       "      <th>EpochID</th>\n",
       "      <th>Svid</th>\n",
       "      <th>BiasUncertaintyNanos</th>\n",
       "      <th>State</th>\n",
       "      <th>ReceivedSvTimeNanos</th>\n",
       "      <th>ReceivedSvTimeUncertaintyNanos</th>\n",
       "      <th>Cn0DbHz</th>\n",
       "      <th>PseudorangeRateMetersPerSecond</th>\n",
       "      <th>ReceiverGPSTimeNanos</th>\n",
       "      <th>TransmitterGPSTimeNanos</th>\n",
       "      <th>...</th>\n",
       "      <th>azimuth</th>\n",
       "      <th>ionosphereDelay</th>\n",
       "      <th>troposphereDelay</th>\n",
       "      <th>intersectingPoints</th>\n",
       "      <th>Z</th>\n",
       "      <th>W</th>\n",
       "      <th>X</th>\n",
       "      <th>Y</th>\n",
       "      <th>PseudoRange</th>\n",
       "      <th>Residual</th>\n",
       "    </tr>\n",
       "  </thead>\n",
       "  <tbody>\n",
       "    <tr>\n",
       "      <th>0</th>\n",
       "      <td>1</td>\n",
       "      <td>E02</td>\n",
       "      <td>23.770348</td>\n",
       "      <td>85026.0</td>\n",
       "      <td>2.045859e+14</td>\n",
       "      <td>6.900000e+01</td>\n",
       "      <td>23.471855</td>\n",
       "      <td>441.508879</td>\n",
       "      <td>1.265446e+18</td>\n",
       "      <td>NaN</td>\n",
       "      <td>...</td>\n",
       "      <td>32.355947</td>\n",
       "      <td>NaN</td>\n",
       "      <td>NaN</td>\n",
       "      <td>c(X = 529503.502602816, Y = 182302.928725026, ...</td>\n",
       "      <td>34.681819</td>\n",
       "      <td>275.614545</td>\n",
       "      <td>529502.042041</td>\n",
       "      <td>182300.623332</td>\n",
       "      <td>NaN</td>\n",
       "      <td>NaN</td>\n",
       "    </tr>\n",
       "    <tr>\n",
       "      <th>1</th>\n",
       "      <td>1</td>\n",
       "      <td>E07</td>\n",
       "      <td>23.770348</td>\n",
       "      <td>21546.0</td>\n",
       "      <td>2.045859e+14</td>\n",
       "      <td>1.100000e+01</td>\n",
       "      <td>45.905182</td>\n",
       "      <td>297.262449</td>\n",
       "      <td>1.265446e+18</td>\n",
       "      <td>NaN</td>\n",
       "      <td>...</td>\n",
       "      <td>103.149008</td>\n",
       "      <td>NaN</td>\n",
       "      <td>NaN</td>\n",
       "      <td>c(X = 529581.919082558, Y = 182281.963325678, ...</td>\n",
       "      <td>142.241196</td>\n",
       "      <td>436.252140</td>\n",
       "      <td>529502.042041</td>\n",
       "      <td>182300.623332</td>\n",
       "      <td>NaN</td>\n",
       "      <td>NaN</td>\n",
       "    </tr>\n",
       "    <tr>\n",
       "      <th>2</th>\n",
       "      <td>1</td>\n",
       "      <td>E08</td>\n",
       "      <td>23.770348</td>\n",
       "      <td>84002.0</td>\n",
       "      <td>2.045859e+14</td>\n",
       "      <td>1.000000e+09</td>\n",
       "      <td>24.197746</td>\n",
       "      <td>491.962844</td>\n",
       "      <td>1.265446e+18</td>\n",
       "      <td>NaN</td>\n",
       "      <td>...</td>\n",
       "      <td>105.951171</td>\n",
       "      <td>NaN</td>\n",
       "      <td>NaN</td>\n",
       "      <td>c(X = 529570.16004556, Y = 182281.153618431, Z...</td>\n",
       "      <td>39.700078</td>\n",
       "      <td>454.577197</td>\n",
       "      <td>529502.042041</td>\n",
       "      <td>182300.623332</td>\n",
       "      <td>NaN</td>\n",
       "      <td>NaN</td>\n",
       "    </tr>\n",
       "    <tr>\n",
       "      <th>3</th>\n",
       "      <td>1</td>\n",
       "      <td>E11</td>\n",
       "      <td>NaN</td>\n",
       "      <td>NaN</td>\n",
       "      <td>NaN</td>\n",
       "      <td>NaN</td>\n",
       "      <td>NaN</td>\n",
       "      <td>NaN</td>\n",
       "      <td>NaN</td>\n",
       "      <td>NaN</td>\n",
       "      <td>...</td>\n",
       "      <td>-9.569995</td>\n",
       "      <td>NaN</td>\n",
       "      <td>NaN</td>\n",
       "      <td>c(X = 529501.856474795, Y = 182301.723970592, ...</td>\n",
       "      <td>33.934377</td>\n",
       "      <td>273.574427</td>\n",
       "      <td>529502.042041</td>\n",
       "      <td>182300.623332</td>\n",
       "      <td>NaN</td>\n",
       "      <td>NaN</td>\n",
       "    </tr>\n",
       "    <tr>\n",
       "      <th>4</th>\n",
       "      <td>1</td>\n",
       "      <td>E12</td>\n",
       "      <td>23.770348</td>\n",
       "      <td>84002.0</td>\n",
       "      <td>2.045859e+14</td>\n",
       "      <td>1.000000e+09</td>\n",
       "      <td>22.291088</td>\n",
       "      <td>47.024307</td>\n",
       "      <td>1.265446e+18</td>\n",
       "      <td>NaN</td>\n",
       "      <td>...</td>\n",
       "      <td>-57.767736</td>\n",
       "      <td>NaN</td>\n",
       "      <td>NaN</td>\n",
       "      <td>c(X = 529501.141208282, Y = 182301.191325316, ...</td>\n",
       "      <td>34.318255</td>\n",
       "      <td>272.682622</td>\n",
       "      <td>529502.042041</td>\n",
       "      <td>182300.623332</td>\n",
       "      <td>NaN</td>\n",
       "      <td>NaN</td>\n",
       "    </tr>\n",
       "  </tbody>\n",
       "</table>\n",
       "<p>5 rows × 35 columns</p>\n",
       "</div>"
      ],
      "text/plain": [
       "   EpochID Svid  BiasUncertaintyNanos    State  ReceivedSvTimeNanos  \\\n",
       "0        1  E02             23.770348  85026.0         2.045859e+14   \n",
       "1        1  E07             23.770348  21546.0         2.045859e+14   \n",
       "2        1  E08             23.770348  84002.0         2.045859e+14   \n",
       "3        1  E11                   NaN      NaN                  NaN   \n",
       "4        1  E12             23.770348  84002.0         2.045859e+14   \n",
       "\n",
       "   ReceivedSvTimeUncertaintyNanos    Cn0DbHz  PseudorangeRateMetersPerSecond  \\\n",
       "0                    6.900000e+01  23.471855                      441.508879   \n",
       "1                    1.100000e+01  45.905182                      297.262449   \n",
       "2                    1.000000e+09  24.197746                      491.962844   \n",
       "3                             NaN        NaN                             NaN   \n",
       "4                    1.000000e+09  22.291088                       47.024307   \n",
       "\n",
       "   ReceiverGPSTimeNanos  TransmitterGPSTimeNanos    ...        azimuth  \\\n",
       "0          1.265446e+18                      NaN    ...      32.355947   \n",
       "1          1.265446e+18                      NaN    ...     103.149008   \n",
       "2          1.265446e+18                      NaN    ...     105.951171   \n",
       "3                   NaN                      NaN    ...      -9.569995   \n",
       "4          1.265446e+18                      NaN    ...     -57.767736   \n",
       "\n",
       "   ionosphereDelay  troposphereDelay  \\\n",
       "0              NaN               NaN   \n",
       "1              NaN               NaN   \n",
       "2              NaN               NaN   \n",
       "3              NaN               NaN   \n",
       "4              NaN               NaN   \n",
       "\n",
       "                                  intersectingPoints           Z           W  \\\n",
       "0  c(X = 529503.502602816, Y = 182302.928725026, ...   34.681819  275.614545   \n",
       "1  c(X = 529581.919082558, Y = 182281.963325678, ...  142.241196  436.252140   \n",
       "2  c(X = 529570.16004556, Y = 182281.153618431, Z...   39.700078  454.577197   \n",
       "3  c(X = 529501.856474795, Y = 182301.723970592, ...   33.934377  273.574427   \n",
       "4  c(X = 529501.141208282, Y = 182301.191325316, ...   34.318255  272.682622   \n",
       "\n",
       "               X              Y  PseudoRange  Residual  \n",
       "0  529502.042041  182300.623332          NaN       NaN  \n",
       "1  529502.042041  182300.623332          NaN       NaN  \n",
       "2  529502.042041  182300.623332          NaN       NaN  \n",
       "3  529502.042041  182300.623332          NaN       NaN  \n",
       "4  529502.042041  182300.623332          NaN       NaN  \n",
       "\n",
       "[5 rows x 35 columns]"
      ]
     },
     "execution_count": 50,
     "metadata": {},
     "output_type": "execute_result"
    }
   ],
   "source": [
    "df = pd.read_csv('observations2020-03-04.csv')\n",
    "df.head()"
   ]
  },
  {
   "cell_type": "code",
   "execution_count": 53,
   "metadata": {},
   "outputs": [
    {
     "data": {
      "text/html": [
       "<div>\n",
       "<style scoped>\n",
       "    .dataframe tbody tr th:only-of-type {\n",
       "        vertical-align: middle;\n",
       "    }\n",
       "\n",
       "    .dataframe tbody tr th {\n",
       "        vertical-align: top;\n",
       "    }\n",
       "\n",
       "    .dataframe thead th {\n",
       "        text-align: right;\n",
       "    }\n",
       "</style>\n",
       "<table border=\"1\" class=\"dataframe\">\n",
       "  <thead>\n",
       "    <tr style=\"text-align: right;\">\n",
       "      <th></th>\n",
       "      <th>PseudoRange</th>\n",
       "      <th>SatDistance</th>\n",
       "    </tr>\n",
       "  </thead>\n",
       "  <tbody>\n",
       "    <tr>\n",
       "      <th>0</th>\n",
       "      <td>NaN</td>\n",
       "      <td>2.737755e+07</td>\n",
       "    </tr>\n",
       "    <tr>\n",
       "      <th>1</th>\n",
       "      <td>NaN</td>\n",
       "      <td>2.434706e+07</td>\n",
       "    </tr>\n",
       "    <tr>\n",
       "      <th>2</th>\n",
       "      <td>NaN</td>\n",
       "      <td>2.866219e+07</td>\n",
       "    </tr>\n",
       "    <tr>\n",
       "      <th>3</th>\n",
       "      <td>NaN</td>\n",
       "      <td>2.868801e+07</td>\n",
       "    </tr>\n",
       "    <tr>\n",
       "      <th>4</th>\n",
       "      <td>NaN</td>\n",
       "      <td>2.669391e+07</td>\n",
       "    </tr>\n",
       "    <tr>\n",
       "      <th>5</th>\n",
       "      <td>NaN</td>\n",
       "      <td>2.643829e+07</td>\n",
       "    </tr>\n",
       "    <tr>\n",
       "      <th>6</th>\n",
       "      <td>NaN</td>\n",
       "      <td>2.908383e+07</td>\n",
       "    </tr>\n",
       "    <tr>\n",
       "      <th>7</th>\n",
       "      <td>NaN</td>\n",
       "      <td>2.904456e+07</td>\n",
       "    </tr>\n",
       "    <tr>\n",
       "      <th>8</th>\n",
       "      <td>NaN</td>\n",
       "      <td>2.544400e+07</td>\n",
       "    </tr>\n",
       "    <tr>\n",
       "      <th>9</th>\n",
       "      <td>NaN</td>\n",
       "      <td>2.468426e+07</td>\n",
       "    </tr>\n",
       "    <tr>\n",
       "      <th>10</th>\n",
       "      <td>NaN</td>\n",
       "      <td>2.691522e+07</td>\n",
       "    </tr>\n",
       "    <tr>\n",
       "      <th>11</th>\n",
       "      <td>2.405683e+07</td>\n",
       "      <td>2.405677e+07</td>\n",
       "    </tr>\n",
       "    <tr>\n",
       "      <th>12</th>\n",
       "      <td>2.041904e+07</td>\n",
       "      <td>2.041896e+07</td>\n",
       "    </tr>\n",
       "    <tr>\n",
       "      <th>13</th>\n",
       "      <td>2.149910e+07</td>\n",
       "      <td>2.149908e+07</td>\n",
       "    </tr>\n",
       "    <tr>\n",
       "      <th>14</th>\n",
       "      <td>2.440803e+07</td>\n",
       "      <td>2.440803e+07</td>\n",
       "    </tr>\n",
       "    <tr>\n",
       "      <th>15</th>\n",
       "      <td>2.188368e+07</td>\n",
       "      <td>2.188358e+07</td>\n",
       "    </tr>\n",
       "    <tr>\n",
       "      <th>16</th>\n",
       "      <td>NaN</td>\n",
       "      <td>2.437355e+07</td>\n",
       "    </tr>\n",
       "    <tr>\n",
       "      <th>17</th>\n",
       "      <td>NaN</td>\n",
       "      <td>2.564331e+07</td>\n",
       "    </tr>\n",
       "    <tr>\n",
       "      <th>18</th>\n",
       "      <td>NaN</td>\n",
       "      <td>2.544803e+07</td>\n",
       "    </tr>\n",
       "    <tr>\n",
       "      <th>19</th>\n",
       "      <td>2.426113e+07</td>\n",
       "      <td>2.426117e+07</td>\n",
       "    </tr>\n",
       "    <tr>\n",
       "      <th>20</th>\n",
       "      <td>2.047537e+07</td>\n",
       "      <td>2.047540e+07</td>\n",
       "    </tr>\n",
       "    <tr>\n",
       "      <th>21</th>\n",
       "      <td>NaN</td>\n",
       "      <td>2.138022e+07</td>\n",
       "    </tr>\n",
       "    <tr>\n",
       "      <th>22</th>\n",
       "      <td>NaN</td>\n",
       "      <td>1.939288e+07</td>\n",
       "    </tr>\n",
       "    <tr>\n",
       "      <th>23</th>\n",
       "      <td>NaN</td>\n",
       "      <td>2.252360e+07</td>\n",
       "    </tr>\n",
       "    <tr>\n",
       "      <th>24</th>\n",
       "      <td>NaN</td>\n",
       "      <td>2.004130e+07</td>\n",
       "    </tr>\n",
       "    <tr>\n",
       "      <th>25</th>\n",
       "      <td>NaN</td>\n",
       "      <td>2.020616e+07</td>\n",
       "    </tr>\n",
       "    <tr>\n",
       "      <th>26</th>\n",
       "      <td>NaN</td>\n",
       "      <td>2.413299e+07</td>\n",
       "    </tr>\n",
       "    <tr>\n",
       "      <th>27</th>\n",
       "      <td>NaN</td>\n",
       "      <td>2.421311e+07</td>\n",
       "    </tr>\n",
       "    <tr>\n",
       "      <th>28</th>\n",
       "      <td>NaN</td>\n",
       "      <td>2.262166e+07</td>\n",
       "    </tr>\n",
       "    <tr>\n",
       "      <th>29</th>\n",
       "      <td>NaN</td>\n",
       "      <td>2.297044e+07</td>\n",
       "    </tr>\n",
       "    <tr>\n",
       "      <th>...</th>\n",
       "      <td>...</td>\n",
       "      <td>...</td>\n",
       "    </tr>\n",
       "    <tr>\n",
       "      <th>468019</th>\n",
       "      <td>NaN</td>\n",
       "      <td>1.985800e+07</td>\n",
       "    </tr>\n",
       "    <tr>\n",
       "      <th>468020</th>\n",
       "      <td>2.158114e+07</td>\n",
       "      <td>2.157962e+07</td>\n",
       "    </tr>\n",
       "    <tr>\n",
       "      <th>468021</th>\n",
       "      <td>NaN</td>\n",
       "      <td>2.215491e+07</td>\n",
       "    </tr>\n",
       "    <tr>\n",
       "      <th>468022</th>\n",
       "      <td>NaN</td>\n",
       "      <td>2.399786e+07</td>\n",
       "    </tr>\n",
       "    <tr>\n",
       "      <th>468023</th>\n",
       "      <td>1.949278e+07</td>\n",
       "      <td>1.949131e+07</td>\n",
       "    </tr>\n",
       "    <tr>\n",
       "      <th>468024</th>\n",
       "      <td>NaN</td>\n",
       "      <td>2.263299e+07</td>\n",
       "    </tr>\n",
       "    <tr>\n",
       "      <th>468025</th>\n",
       "      <td>NaN</td>\n",
       "      <td>2.491733e+07</td>\n",
       "    </tr>\n",
       "    <tr>\n",
       "      <th>468026</th>\n",
       "      <td>NaN</td>\n",
       "      <td>2.282907e+07</td>\n",
       "    </tr>\n",
       "    <tr>\n",
       "      <th>468027</th>\n",
       "      <td>NaN</td>\n",
       "      <td>2.282610e+07</td>\n",
       "    </tr>\n",
       "    <tr>\n",
       "      <th>468028</th>\n",
       "      <td>NaN</td>\n",
       "      <td>2.531544e+07</td>\n",
       "    </tr>\n",
       "    <tr>\n",
       "      <th>468029</th>\n",
       "      <td>2.312743e+07</td>\n",
       "      <td>2.312750e+07</td>\n",
       "    </tr>\n",
       "    <tr>\n",
       "      <th>468030</th>\n",
       "      <td>2.274708e+07</td>\n",
       "      <td>2.274709e+07</td>\n",
       "    </tr>\n",
       "    <tr>\n",
       "      <th>468031</th>\n",
       "      <td>2.268253e+07</td>\n",
       "      <td>2.268263e+07</td>\n",
       "    </tr>\n",
       "    <tr>\n",
       "      <th>468032</th>\n",
       "      <td>2.114499e+07</td>\n",
       "      <td>2.114500e+07</td>\n",
       "    </tr>\n",
       "    <tr>\n",
       "      <th>468033</th>\n",
       "      <td>2.289052e+07</td>\n",
       "      <td>2.289054e+07</td>\n",
       "    </tr>\n",
       "    <tr>\n",
       "      <th>468034</th>\n",
       "      <td>NaN</td>\n",
       "      <td>2.511957e+07</td>\n",
       "    </tr>\n",
       "    <tr>\n",
       "      <th>468035</th>\n",
       "      <td>2.279520e+07</td>\n",
       "      <td>2.279520e+07</td>\n",
       "    </tr>\n",
       "    <tr>\n",
       "      <th>468036</th>\n",
       "      <td>NaN</td>\n",
       "      <td>2.292504e+07</td>\n",
       "    </tr>\n",
       "    <tr>\n",
       "      <th>468037</th>\n",
       "      <td>2.040223e+07</td>\n",
       "      <td>2.040226e+07</td>\n",
       "    </tr>\n",
       "    <tr>\n",
       "      <th>468038</th>\n",
       "      <td>2.384548e+07</td>\n",
       "      <td>2.384552e+07</td>\n",
       "    </tr>\n",
       "    <tr>\n",
       "      <th>468039</th>\n",
       "      <td>NaN</td>\n",
       "      <td>2.601719e+07</td>\n",
       "    </tr>\n",
       "    <tr>\n",
       "      <th>468040</th>\n",
       "      <td>1.986001e+07</td>\n",
       "      <td>1.985850e+07</td>\n",
       "    </tr>\n",
       "    <tr>\n",
       "      <th>468041</th>\n",
       "      <td>2.158060e+07</td>\n",
       "      <td>2.157915e+07</td>\n",
       "    </tr>\n",
       "    <tr>\n",
       "      <th>468042</th>\n",
       "      <td>NaN</td>\n",
       "      <td>2.215571e+07</td>\n",
       "    </tr>\n",
       "    <tr>\n",
       "      <th>468043</th>\n",
       "      <td>NaN</td>\n",
       "      <td>2.399857e+07</td>\n",
       "    </tr>\n",
       "    <tr>\n",
       "      <th>468044</th>\n",
       "      <td>1.949263e+07</td>\n",
       "      <td>1.949116e+07</td>\n",
       "    </tr>\n",
       "    <tr>\n",
       "      <th>468045</th>\n",
       "      <td>NaN</td>\n",
       "      <td>2.263234e+07</td>\n",
       "    </tr>\n",
       "    <tr>\n",
       "      <th>468046</th>\n",
       "      <td>NaN</td>\n",
       "      <td>2.491797e+07</td>\n",
       "    </tr>\n",
       "    <tr>\n",
       "      <th>468047</th>\n",
       "      <td>NaN</td>\n",
       "      <td>2.282923e+07</td>\n",
       "    </tr>\n",
       "    <tr>\n",
       "      <th>468048</th>\n",
       "      <td>NaN</td>\n",
       "      <td>2.282557e+07</td>\n",
       "    </tr>\n",
       "  </tbody>\n",
       "</table>\n",
       "<p>468049 rows × 2 columns</p>\n",
       "</div>"
      ],
      "text/plain": [
       "         PseudoRange   SatDistance\n",
       "0                NaN  2.737755e+07\n",
       "1                NaN  2.434706e+07\n",
       "2                NaN  2.866219e+07\n",
       "3                NaN  2.868801e+07\n",
       "4                NaN  2.669391e+07\n",
       "5                NaN  2.643829e+07\n",
       "6                NaN  2.908383e+07\n",
       "7                NaN  2.904456e+07\n",
       "8                NaN  2.544400e+07\n",
       "9                NaN  2.468426e+07\n",
       "10               NaN  2.691522e+07\n",
       "11      2.405683e+07  2.405677e+07\n",
       "12      2.041904e+07  2.041896e+07\n",
       "13      2.149910e+07  2.149908e+07\n",
       "14      2.440803e+07  2.440803e+07\n",
       "15      2.188368e+07  2.188358e+07\n",
       "16               NaN  2.437355e+07\n",
       "17               NaN  2.564331e+07\n",
       "18               NaN  2.544803e+07\n",
       "19      2.426113e+07  2.426117e+07\n",
       "20      2.047537e+07  2.047540e+07\n",
       "21               NaN  2.138022e+07\n",
       "22               NaN  1.939288e+07\n",
       "23               NaN  2.252360e+07\n",
       "24               NaN  2.004130e+07\n",
       "25               NaN  2.020616e+07\n",
       "26               NaN  2.413299e+07\n",
       "27               NaN  2.421311e+07\n",
       "28               NaN  2.262166e+07\n",
       "29               NaN  2.297044e+07\n",
       "...              ...           ...\n",
       "468019           NaN  1.985800e+07\n",
       "468020  2.158114e+07  2.157962e+07\n",
       "468021           NaN  2.215491e+07\n",
       "468022           NaN  2.399786e+07\n",
       "468023  1.949278e+07  1.949131e+07\n",
       "468024           NaN  2.263299e+07\n",
       "468025           NaN  2.491733e+07\n",
       "468026           NaN  2.282907e+07\n",
       "468027           NaN  2.282610e+07\n",
       "468028           NaN  2.531544e+07\n",
       "468029  2.312743e+07  2.312750e+07\n",
       "468030  2.274708e+07  2.274709e+07\n",
       "468031  2.268253e+07  2.268263e+07\n",
       "468032  2.114499e+07  2.114500e+07\n",
       "468033  2.289052e+07  2.289054e+07\n",
       "468034           NaN  2.511957e+07\n",
       "468035  2.279520e+07  2.279520e+07\n",
       "468036           NaN  2.292504e+07\n",
       "468037  2.040223e+07  2.040226e+07\n",
       "468038  2.384548e+07  2.384552e+07\n",
       "468039           NaN  2.601719e+07\n",
       "468040  1.986001e+07  1.985850e+07\n",
       "468041  2.158060e+07  2.157915e+07\n",
       "468042           NaN  2.215571e+07\n",
       "468043           NaN  2.399857e+07\n",
       "468044  1.949263e+07  1.949116e+07\n",
       "468045           NaN  2.263234e+07\n",
       "468046           NaN  2.491797e+07\n",
       "468047           NaN  2.282923e+07\n",
       "468048           NaN  2.282557e+07\n",
       "\n",
       "[468049 rows x 2 columns]"
      ]
     },
     "execution_count": 53,
     "metadata": {},
     "output_type": "execute_result"
    }
   ],
   "source": [
    "df.loc[:, ['PseudoRange' , 'SatDistance']]"
   ]
  },
  {
   "cell_type": "code",
   "execution_count": 51,
   "metadata": {},
   "outputs": [
    {
     "data": {
      "text/plain": [
       "Index(['EpochID', 'Svid', 'BiasUncertaintyNanos', 'State',\n",
       "       'ReceivedSvTimeNanos', 'ReceivedSvTimeUncertaintyNanos', 'Cn0DbHz',\n",
       "       'PseudorangeRateMetersPerSecond', 'ReceiverGPSTimeNanos',\n",
       "       'TransmitterGPSTimeNanos', 'time', 'clockError', 'Rx', 'Ry', 'Rz', 'Vx',\n",
       "       'Vy', 'Vz', 'relativisticClockError', 'rotation', 'velocity',\n",
       "       'geometry', 'SatDistance', 'UTCTime', 'elevation', 'azimuth',\n",
       "       'ionosphereDelay', 'troposphereDelay', 'intersectingPoints', 'Z', 'W',\n",
       "       'X', 'Y', 'PseudoRange', 'Residual'],\n",
       "      dtype='object')"
      ]
     },
     "execution_count": 51,
     "metadata": {},
     "output_type": "execute_result"
    }
   ],
   "source": [
    "df.columns"
   ]
  },
  {
   "cell_type": "markdown",
   "metadata": {},
   "source": [
    "# EDA\n",
    "\n",
    "Each signal in the dataset belongs to an epoch (a group of observations) and is identified by satellite id (SVID). The labels were produced through a geometric analysis of a ground truth 3D map of UCL (plotting the signal trajectories and identifying whether the signal passes through a building or not). In this notebook we primarily focus on two of the features in the dataset:\n",
    "\n",
    "1) The Received SV time Nanos - the time in nanoseconds that it took the satellite transmission to reach the receiver. \n",
    "\n",
    "2) The signal strength -  Carrier to Noise ratio in DecibelHertz.\n",
    "\n",
    "We firstly begin by visualising the distribution of the two features under consideration, and also the balance of the labels. We can also see the number of observations present in each epoch."
   ]
  },
  {
   "cell_type": "code",
   "execution_count": 229,
   "metadata": {},
   "outputs": [
    {
     "data": {
      "text/plain": [
       "(245866, 10)"
      ]
     },
     "execution_count": 229,
     "metadata": {},
     "output_type": "execute_result"
    }
   ],
   "source": [
    "df.shape"
   ]
  },
  {
   "cell_type": "code",
   "execution_count": 282,
   "metadata": {},
   "outputs": [
    {
     "data": {
      "text/plain": [
       "6487"
      ]
     },
     "execution_count": 282,
     "metadata": {},
     "output_type": "execute_result"
    }
   ],
   "source": [
    "# Totol number of epochs\n",
    "len(df['EpochID'].unique())"
   ]
  },
  {
   "cell_type": "code",
   "execution_count": 232,
   "metadata": {},
   "outputs": [
    {
     "data": {
      "text/plain": [
       "9843    41\n",
       "9865    41\n",
       "9156    41\n",
       "9138    41\n",
       "9823    41\n",
       "Name: EpochID, dtype: int64"
      ]
     },
     "execution_count": 232,
     "metadata": {},
     "output_type": "execute_result"
    }
   ],
   "source": [
    "#  Epochs with the most observations\n",
    "df['EpochID'].value_counts().head()"
   ]
  },
  {
   "cell_type": "code",
   "execution_count": 283,
   "metadata": {},
   "outputs": [
    {
     "data": {
      "text/plain": [
       "7893    36\n",
       "4789    36\n",
       "4423    36\n",
       "7818    36\n",
       "6635    36\n",
       "Name: EpochID, dtype: int64"
      ]
     },
     "execution_count": 283,
     "metadata": {},
     "output_type": "execute_result"
    }
   ],
   "source": [
    "#  Epochs with the fewest observations\n",
    "df['EpochID'].value_counts().tail()"
   ]
  },
  {
   "cell_type": "code",
   "execution_count": 4,
   "metadata": {},
   "outputs": [
    {
     "data": {
      "text/plain": [
       "NLOS    164918\n",
       "LOS      71195\n",
       "NaN       9753\n",
       "Name: Label, dtype: int64"
      ]
     },
     "execution_count": 4,
     "metadata": {},
     "output_type": "execute_result"
    }
   ],
   "source": [
    "#  Count the labels\n",
    "df['Label'].value_counts(dropna=False)"
   ]
  },
  {
   "cell_type": "code",
   "execution_count": 5,
   "metadata": {},
   "outputs": [],
   "source": [
    "df = df.dropna(subset=['Label'])"
   ]
  },
  {
   "cell_type": "code",
   "execution_count": 9,
   "metadata": {},
   "outputs": [],
   "source": [
    "# Convert the string labels to booleans\n",
    "def transf_labels(l1):\n",
    "    if l1 == 'NLOS':\n",
    "        return 0\n",
    "    else:\n",
    "        return 1\n",
    "# df['Label'] = df['Label'].apply(transf_labels)"
   ]
  },
  {
   "cell_type": "code",
   "execution_count": 237,
   "metadata": {},
   "outputs": [
    {
     "data": {
      "image/png": "[encoded data removed]",
      "text/plain": [
       "<Figure size 432x288 with 1 Axes>"
      ]
     },
     "metadata": {
      "needs_background": "light"
     },
     "output_type": "display_data"
    }
   ],
   "source": [
    "# Label balance plot\n",
    "df['Label'].plot(kind='hist')\n",
    "plt.legend()\n",
    "plt.show()"
   ]
  },
  {
   "cell_type": "code",
   "execution_count": 6,
   "metadata": {},
   "outputs": [],
   "source": [
    "df = df.loc[:,['Cn0DbHz', 'Residual', 'Label']]\n",
    "# drop the columns with no label\n",
    "df = df.dropna()"
   ]
  },
  {
   "cell_type": "code",
   "execution_count": 225,
   "metadata": {},
   "outputs": [
    {
     "data": {
      "text/plain": [
       "(236113, 4)"
      ]
     },
     "execution_count": 225,
     "metadata": {},
     "output_type": "execute_result"
    }
   ],
   "source": [
    "df.shape"
   ]
  },
  {
   "cell_type": "code",
   "execution_count": 15,
   "metadata": {},
   "outputs": [
    {
     "data": {
      "text/html": [
       "<div>\n",
       "<style scoped>\n",
       "    .dataframe tbody tr th:only-of-type {\n",
       "        vertical-align: middle;\n",
       "    }\n",
       "\n",
       "    .dataframe tbody tr th {\n",
       "        vertical-align: top;\n",
       "    }\n",
       "\n",
       "    .dataframe thead th {\n",
       "        text-align: right;\n",
       "    }\n",
       "</style>\n",
       "<table border=\"1\" class=\"dataframe\">\n",
       "  <thead>\n",
       "    <tr style=\"text-align: right;\">\n",
       "      <th></th>\n",
       "      <th>Cn0DbHz</th>\n",
       "      <th>PseudoRange</th>\n",
       "      <th>Label</th>\n",
       "    </tr>\n",
       "  </thead>\n",
       "  <tbody>\n",
       "    <tr>\n",
       "      <th>0</th>\n",
       "      <td>23.471855</td>\n",
       "      <td>NaN</td>\n",
       "      <td>NLOS</td>\n",
       "    </tr>\n",
       "    <tr>\n",
       "      <th>1</th>\n",
       "      <td>45.905182</td>\n",
       "      <td>NaN</td>\n",
       "      <td>LOS</td>\n",
       "    </tr>\n",
       "    <tr>\n",
       "      <th>2</th>\n",
       "      <td>24.197746</td>\n",
       "      <td>NaN</td>\n",
       "      <td>NLOS</td>\n",
       "    </tr>\n",
       "    <tr>\n",
       "      <th>3</th>\n",
       "      <td>NaN</td>\n",
       "      <td>NaN</td>\n",
       "      <td>NLOS</td>\n",
       "    </tr>\n",
       "    <tr>\n",
       "      <th>4</th>\n",
       "      <td>22.291088</td>\n",
       "      <td>NaN</td>\n",
       "      <td>NLOS</td>\n",
       "    </tr>\n",
       "  </tbody>\n",
       "</table>\n",
       "</div>"
      ],
      "text/plain": [
       "     Cn0DbHz  PseudoRange Label\n",
       "0  23.471855          NaN  NLOS\n",
       "1  45.905182          NaN   LOS\n",
       "2  24.197746          NaN  NLOS\n",
       "3        NaN          NaN  NLOS\n",
       "4  22.291088          NaN  NLOS"
      ]
     },
     "execution_count": 15,
     "metadata": {},
     "output_type": "execute_result"
    }
   ],
   "source": [
    "df.head()"
   ]
  },
  {
   "cell_type": "code",
   "execution_count": 223,
   "metadata": {},
   "outputs": [
    {
     "data": {
      "image/png": "[encoded data removed]",
      "text/plain": [
       "<Figure size 432x288 with 1 Axes>"
      ]
     },
     "metadata": {
      "needs_background": "light"
     },
     "output_type": "display_data"
    }
   ],
   "source": [
    "# Histogram of the signal strength\n",
    "df['Cn0DbHz'].plot(x='Cn0DbHz', kind='hist')\n",
    "plt.legend()\n",
    "plt.show()"
   ]
  },
  {
   "cell_type": "code",
   "execution_count": 16,
   "metadata": {},
   "outputs": [
    {
     "data": {
      "text/plain": [
       "<matplotlib.axes._subplots.AxesSubplot at 0x12cd63978>"
      ]
     },
     "execution_count": 16,
     "metadata": {},
     "output_type": "execute_result"
    },
    {
     "data": {
      "image/png": "[encoded data removed]",
      "text/plain": [
       "<Figure size 432x288 with 1 Axes>"
      ]
     },
     "metadata": {
      "needs_background": "light"
     },
     "output_type": "display_data"
    }
   ],
   "source": [
    "df['PseudoRange'].plot(kind='hist')"
   ]
  },
  {
   "cell_type": "code",
   "execution_count": 10,
   "metadata": {},
   "outputs": [
    {
     "data": {
      "text/plain": [
       "<matplotlib.axes._subplots.AxesSubplot at 0x11b0caba8>"
      ]
     },
     "execution_count": 10,
     "metadata": {},
     "output_type": "execute_result"
    },
    {
     "data": {
      "image/png": "[encoded data removed]",
      "text/plain": [
       "<Figure size 432x288 with 1 Axes>"
      ]
     },
     "metadata": {
      "needs_background": "light"
     },
     "output_type": "display_data"
    }
   ],
   "source": [
    "df['Label'].plot(kind='hist')"
   ]
  },
  {
   "cell_type": "code",
   "execution_count": 286,
   "metadata": {},
   "outputs": [
    {
     "data": {
      "text/plain": [
       "0    164918\n",
       "1     71195\n",
       "Name: Label, dtype: int64"
      ]
     },
     "execution_count": 286,
     "metadata": {},
     "output_type": "execute_result"
    }
   ],
   "source": [
    "df['Label'].value_counts()"
   ]
  },
  {
   "cell_type": "markdown",
   "metadata": {},
   "source": [
    "# Modelling\n",
    "\n",
    "Initially we will use only the signal strength as a feature for the non/line-of-sight binary classification. We will evaluate Logistic Regression, SVMs and some boosting models (AdaBoost). We will firstly drop all the NaN entries in the signal strength, and then compare the performance when NaNs are replaced by zeros."
   ]
  },
  {
   "cell_type": "code",
   "execution_count": 7,
   "metadata": {},
   "outputs": [],
   "source": [
    "df_only_signal = df.loc[:,['Cn0DbHz','Label']]"
   ]
  },
  {
   "cell_type": "code",
   "execution_count": 10,
   "metadata": {},
   "outputs": [],
   "source": [
    "df_only_signal['Label'] = df_only_signal['Label'].apply(transf_labels)"
   ]
  },
  {
   "cell_type": "code",
   "execution_count": 11,
   "metadata": {},
   "outputs": [
    {
     "data": {
      "text/plain": [
       "0    69688\n",
       "1    51452\n",
       "Name: Label, dtype: int64"
      ]
     },
     "execution_count": 11,
     "metadata": {},
     "output_type": "execute_result"
    }
   ],
   "source": [
    "df_only_signal['Label'].value_counts()"
   ]
  },
  {
   "cell_type": "code",
   "execution_count": 19,
   "metadata": {},
   "outputs": [],
   "source": [
    "# df_only_signal = df_only_signal.dropna()\n",
    "df_only_signal = df_only_signal.fillna(0)"
   ]
  },
  {
   "cell_type": "code",
   "execution_count": 12,
   "metadata": {},
   "outputs": [],
   "source": [
    "X =  df_only_signal['Cn0DbHz'].values.tolist()\n",
    "y =  df_only_signal['Label'].values.tolist()"
   ]
  },
  {
   "cell_type": "code",
   "execution_count": 13,
   "metadata": {},
   "outputs": [],
   "source": [
    "import numpy as np\n",
    "from sklearn.model_selection import train_test_split\n",
    "X_train, X_test, y_train, y_test = train_test_split(X, y, test_size=0.8, random_state=42)\n",
    "X_train_6, X_test_6, y_train_6, y_test_6 = train_test_split(X, y, test_size=0.6, random_state=42)\n",
    "X_train_2, X_test_2, y_train_2, y_test_2 = train_test_split(X, y, test_size=0.2, random_state=42)"
   ]
  },
  {
   "cell_type": "code",
   "execution_count": 14,
   "metadata": {},
   "outputs": [],
   "source": [
    "X_train = np.array(X_train).reshape(-1, 1)\n",
    "X_train_6 = np.array(X_train_6).reshape(-1, 1)\n",
    "X_train_2 = np.array(X_train_2).reshape(-1, 1)"
   ]
  },
  {
   "cell_type": "code",
   "execution_count": 15,
   "metadata": {},
   "outputs": [
    {
     "name": "stderr",
     "output_type": "stream",
     "text": [
      "/Users/nishitbiswas/anaconda3/lib/python3.7/site-packages/sklearn/linear_model/logistic.py:433: FutureWarning: Default solver will be changed to 'lbfgs' in 0.22. Specify a solver to silence this warning.\n",
      "  FutureWarning)\n",
      "/Users/nishitbiswas/anaconda3/lib/python3.7/site-packages/sklearn/linear_model/logistic.py:433: FutureWarning: Default solver will be changed to 'lbfgs' in 0.22. Specify a solver to silence this warning.\n",
      "  FutureWarning)\n",
      "/Users/nishitbiswas/anaconda3/lib/python3.7/site-packages/sklearn/linear_model/logistic.py:433: FutureWarning: Default solver will be changed to 'lbfgs' in 0.22. Specify a solver to silence this warning.\n",
      "  FutureWarning)\n"
     ]
    }
   ],
   "source": [
    "from sklearn.linear_model import LogisticRegression\n",
    "clf = clf_6 = clf_2 = LogisticRegression()\n",
    "clf = clf.fit(X_train, y_train)\n",
    "clf_6 = clf_6.fit(X_train_6, y_train_6)\n",
    "clf_2 = clf_2.fit(X_train_2, y_train_2)"
   ]
  },
  {
   "cell_type": "code",
   "execution_count": 16,
   "metadata": {},
   "outputs": [],
   "source": [
    "preds_LR = clf.predict(np.array(X_test).reshape(-1, 1))\n",
    "y_score_LR = clf.predict_proba(np.array(X_test).reshape(-1, 1))\n",
    "preds_LR_6 = clf_6.predict(np.array(X_test_6).reshape(-1, 1))\n",
    "y_score_LR_6 = clf_6.predict_proba(np.array(X_test_6).reshape(-1, 1))\n",
    "preds_LR_2 = clf_2.predict(np.array(X_test_2).reshape(-1, 1))\n",
    "y_score_LR_2 = clf_2.predict_proba(np.array(X_test_2).reshape(-1, 1))"
   ]
  },
  {
   "cell_type": "code",
   "execution_count": 17,
   "metadata": {},
   "outputs": [],
   "source": [
    "y_score_LR = y_score_LR[:, 1]\n",
    "y_score_LR = [x for x in y_score_LR]\n",
    "y_score_LR_6 = y_score_LR_6[:, 1]\n",
    "y_score_LR_6 = [x for x in y_score_LR_6]\n",
    "y_score_LR_2 = y_score_LR_2[:, 1]\n",
    "y_score_LR_2 = [x for x in y_score_LR_2]"
   ]
  },
  {
   "cell_type": "code",
   "execution_count": 18,
   "metadata": {},
   "outputs": [],
   "source": [
    "from sklearn.metrics import roc_curve, roc_auc_score\n",
    "fpr_LR, tpr_LR, thresholds = roc_curve(y_test, y_score_LR)\n",
    "fpr_LR_6, tpr_LR_6, thresholds = roc_curve(y_test_6, y_score_LR_6)\n",
    "fpr_LR_2, tpr_LR_2, thresholds = roc_curve(y_test_2, y_score_LR_2)"
   ]
  },
  {
   "cell_type": "code",
   "execution_count": 19,
   "metadata": {},
   "outputs": [
    {
     "name": "stdout",
     "output_type": "stream",
     "text": [
      "AUC: 0.878\n",
      "0.6 AUC: 0.878\n",
      "0.2 AUC: 0.876\n"
     ]
    }
   ],
   "source": [
    "auc = roc_auc_score(y_test, y_score_LR)\n",
    "print('AUC: %.3f' % auc)\n",
    "auc_6 = roc_auc_score(y_test_6, y_score_LR_6)\n",
    "print('0.6 AUC: %.3f' % auc_6)\n",
    "auc_2 = roc_auc_score(y_test_2, y_score_LR_2)\n",
    "print('0.2 AUC: %.3f' % auc_2)"
   ]
  },
  {
   "cell_type": "code",
   "execution_count": 20,
   "metadata": {},
   "outputs": [
    {
     "name": "stdout",
     "output_type": "stream",
     "text": [
      "78866\n"
     ]
    }
   ],
   "source": [
    "preds_LR = list(preds_LR)\n",
    "score = 0\n",
    "for x1 in range(len(preds_LR)):\n",
    "    if preds_LR[x1] == y_test[x1]:\n",
    "        score+= 1\n",
    "print(score)\n",
    "    "
   ]
  },
  {
   "cell_type": "code",
   "execution_count": 21,
   "metadata": {},
   "outputs": [
    {
     "data": {
      "text/plain": [
       "0.8137898299488195"
      ]
     },
     "execution_count": 21,
     "metadata": {},
     "output_type": "execute_result"
    }
   ],
   "source": [
    "score/len(preds_LR)"
   ]
  },
  {
   "cell_type": "markdown",
   "metadata": {},
   "source": [
    "## SVM"
   ]
  },
  {
   "cell_type": "code",
   "execution_count": 22,
   "metadata": {},
   "outputs": [],
   "source": [
    "from sklearn.svm import SVC\n",
    "clf = clf_6 = clf_2 = SVC(gamma='auto',probability=True)\n",
    "clf = clf.fit(X_train, y_train)\n",
    "# clf_6 = clf_6.fit(X_train_6, y_train_6)\n",
    "# clf_2 = clf_2.fit(X_train_2, y_train_2)"
   ]
  },
  {
   "cell_type": "code",
   "execution_count": null,
   "metadata": {},
   "outputs": [],
   "source": []
  },
  {
   "cell_type": "code",
   "execution_count": 23,
   "metadata": {},
   "outputs": [],
   "source": [
    "preds_svm = clf.predict(np.array(X_test).reshape(-1, 1))\n",
    "y_score_svm = clf.predict_proba(np.array(X_test).reshape(-1, 1))\n",
    "y_score_svm = y_score_svm[:, 1]\n",
    "y_score_svm = [x for x in y_score_svm]\n",
    "# preds_svm_6 = clf.predict(np.array(X_test_6).reshape(-1, 1))\n",
    "# y_score_svm_6 = clf.predict_proba(np.array(X_test_6).reshape(-1, 1))\n",
    "# y_score_svm_6 = y_score_svm_6[:, 1]\n",
    "# y_score_svm_6 = [x for x in y_score_svm_6]\n",
    "# preds_svm_2 = clf.predict(np.array(X_test_2).reshape(-1, 1))\n",
    "# y_score_svm_2 = clf.predict_proba(np.array(X_test_2).reshape(-1, 1))\n",
    "# y_score_svm_2 = y_score_svm_2[:, 1]\n",
    "# y_score_svm_2 = [x for x in y_score_svm_2]"
   ]
  },
  {
   "cell_type": "code",
   "execution_count": 24,
   "metadata": {},
   "outputs": [
    {
     "name": "stdout",
     "output_type": "stream",
     "text": [
      "AUC: 0.832\n"
     ]
    }
   ],
   "source": [
    "fpr_svm, tpr_svm, thresholds = roc_curve(y_test, y_score_svm)\n",
    "auc = roc_auc_score(y_test, y_score_svm)\n",
    "print('AUC: %.3f' % auc)\n",
    "# auc_6 = roc_auc_score(y_test_6, y_score_svm_6)\n",
    "# print('0.6 AUC: %.3f' % auc_6)\n",
    "# auc_2 = roc_auc_score(y_test_2, y_score_svm_2)\n",
    "# print('0.2 AUC: %.3f' % auc_2)"
   ]
  },
  {
   "cell_type": "code",
   "execution_count": 25,
   "metadata": {},
   "outputs": [
    {
     "name": "stdout",
     "output_type": "stream",
     "text": [
      "79024\n"
     ]
    }
   ],
   "source": [
    "preds_svm = list(preds_svm)\n",
    "score = 0\n",
    "for x1 in range(len(preds_svm)):\n",
    "    if preds_svm[x1] == y_test[x1]:\n",
    "        score+= 1\n",
    "print(score)"
   ]
  },
  {
   "cell_type": "code",
   "execution_count": 26,
   "metadata": {},
   "outputs": [
    {
     "data": {
      "text/plain": [
       "0.8154201750041274"
      ]
     },
     "execution_count": 26,
     "metadata": {},
     "output_type": "execute_result"
    }
   ],
   "source": [
    "score/len(preds_svm)"
   ]
  },
  {
   "cell_type": "code",
   "execution_count": 44,
   "metadata": {},
   "outputs": [],
   "source": [
    "# ADABoost\n",
    "from sklearn.ensemble import AdaBoostClassifier\n",
    "clf = clf_6 = clf_2 = AdaBoostClassifier(n_estimators=200, random_state=0)\n",
    "clf.fit(X_train, y_train)\n",
    "clf = clf.fit(X_train, y_train)\n",
    "clf_6 = clf_6.fit(X_train_6, y_train_6)\n",
    "clf_2 = clf_2.fit(X_train_2, y_train_2)"
   ]
  },
  {
   "cell_type": "code",
   "execution_count": 45,
   "metadata": {},
   "outputs": [
    {
     "data": {
      "text/plain": [
       "AdaBoostClassifier(algorithm='SAMME.R', base_estimator=None,\n",
       "          learning_rate=1.0, n_estimators=200, random_state=0)"
      ]
     },
     "execution_count": 45,
     "metadata": {},
     "output_type": "execute_result"
    }
   ],
   "source": [
    "clf"
   ]
  },
  {
   "cell_type": "code",
   "execution_count": 46,
   "metadata": {},
   "outputs": [],
   "source": [
    "preds_AB = clf.predict(np.array(X_test).reshape(-1, 1))\n",
    "y_score_AB = clf.predict_proba(np.array(X_test).reshape(-1, 1))\n",
    "y_score_AB = y_score_AB[:, 1]\n",
    "y_score_AB = [x for x in y_score_AB]\n",
    "preds_AB_6 = clf.predict(np.array(X_test_6).reshape(-1, 1))\n",
    "y_score_AB_6 = clf.predict_proba(np.array(X_test_6).reshape(-1, 1))\n",
    "y_score_AB_6 = y_score_AB_6[:, 1]\n",
    "y_score_AB_6 = [x for x in y_score_AB_6]\n",
    "preds_AB_2 = clf.predict(np.array(X_test_2).reshape(-1, 1))\n",
    "y_score_AB_2 = clf.predict_proba(np.array(X_test_2).reshape(-1, 1))\n",
    "y_score_AB_2 = y_score_AB_2[:, 1]\n",
    "y_score_AB_2 = [x for x in y_score_AB_2]"
   ]
  },
  {
   "cell_type": "code",
   "execution_count": 47,
   "metadata": {},
   "outputs": [
    {
     "name": "stdout",
     "output_type": "stream",
     "text": [
      "0.8 AUC: 0.880\n",
      "0.6 AUC: 0.880\n",
      "0.2 AUC: 0.877\n"
     ]
    }
   ],
   "source": [
    "fpr_AB, tpr_AB, thresholds = roc_curve(y_test, y_score_AB)\n",
    "auc = roc_auc_score(y_test, y_score_AB)\n",
    "print('0.8 AUC: %.3f' % auc)\n",
    "fpr_AB_6, tpr_AB_6, thresholds = roc_curve(y_test_6, y_score_AB_6)\n",
    "auc_6 = roc_auc_score(y_test_6, y_score_AB_6)\n",
    "print('0.6 AUC: %.3f' % auc_6)\n",
    "fpr_AB_2, tpr_AB_2, thresholds = roc_curve(y_test_2, y_score_AB_2)\n",
    "auc_2 = roc_auc_score(y_test_2, y_score_AB_2)\n",
    "print('0.2 AUC: %.3f' % auc_2)"
   ]
  },
  {
   "cell_type": "code",
   "execution_count": 49,
   "metadata": {},
   "outputs": [
    {
     "name": "stdout",
     "output_type": "stream",
     "text": [
      "79054\n",
      "0.8157297341918441\n"
     ]
    }
   ],
   "source": [
    "preds_AB = list(preds_AB)\n",
    "score = 0\n",
    "for x1 in range(len(preds_AB)):\n",
    "    if preds_AB[x1] == y_test[x1]:\n",
    "        score+= 1\n",
    "print(score)\n",
    "print(score/len(preds_AB))"
   ]
  },
  {
   "cell_type": "markdown",
   "metadata": {},
   "source": [
    "The graphs below shows the ROC and PR performance for the three models when we drop NaN values for the signal strength. The same analysis was performed by replacing NaNs with zeros. By using zeros, there is a drop in the AUCs for the LogisticRegression model, however the performance of the other two model hold. Going forward we drop NaNs for all features, especially as the signal strength is the dominant feature for classification in this setting [give link to literature paper]. We can also see that by using only 20% of the dataset for training, we can still produce results comparable to using 80% of the dataset."
   ]
  },
  {
   "cell_type": "code",
   "execution_count": 31,
   "metadata": {},
   "outputs": [
    {
     "data": {
      "text/plain": [
       "<matplotlib.legend.Legend at 0x1a1c76f240>"
      ]
     },
     "execution_count": 31,
     "metadata": {},
     "output_type": "execute_result"
    },
    {
     "data": {
      "image/png": "[encoded data removed]",
      "text/plain": [
       "<Figure size 1440x360 with 3 Axes>"
      ]
     },
     "metadata": {
      "needs_background": "light"
     },
     "output_type": "display_data"
    }
   ],
   "source": [
    "# ROC plots\n",
    "\n",
    "# 80% training data plots\n",
    "fig, axes = plt.subplots(nrows=1, ncols=3, figsize=(20, 5))\n",
    "ns_probs = [0 for _ in range(len(y_test))]\n",
    "ns_fpr, ns_tpr, _ = roc_curve(y_test, ns_probs)\n",
    "axes[0].plot(fpr_LR, tpr_LR, marker='.', label='LogisticRegression')\n",
    "axes[0].plot(ns_fpr, ns_tpr, marker='.', label='RandomGuessing')\n",
    "axes[0].plot(fpr_svm, tpr_svm, marker='.', label='SVM')\n",
    "axes[0].plot(fpr_AB, tpr_AB, marker='.', label='AdaBoost')\n",
    "axes[0].legend()\n",
    "\n",
    "# 60% training data plots\n",
    "axes[1].plot(fpr_LR_6, tpr_LR_6, marker='.', label='LogisticRegression')\n",
    "axes[1].plot(ns_fpr, ns_tpr, marker='.', label='RandomGuessing')\n",
    "axes[1].plot(fpr_AB_6, tpr_AB_6, marker='.', label='AdaBoost')\n",
    "axes[1].legend()\n",
    "\n",
    "# 20% training data plots\n",
    "axes[2].plot(fpr_LR_2, tpr_LR_2, marker='.', label='LogisticRegression')\n",
    "axes[2].plot(ns_fpr, ns_tpr, marker='.', label='RandomGuessing')\n",
    "axes[2].plot(fpr_AB_2, tpr_AB_2, marker='.', label='AdaBoost')\n",
    "axes[2].legend()\n",
    "\n",
    "# The graphs show the test ROC curves for 80, 60 and 20% of the total data used for training respectively."
   ]
  },
  {
   "cell_type": "code",
   "execution_count": 60,
   "metadata": {},
   "outputs": [
    {
     "name": "stdout",
     "output_type": "stream",
     "text": [
      "0.8 PR AUC: 0.764\n",
      "0.8 PR AUC: 0.790\n",
      "0.8 PR AUC: 0.784\n"
     ]
    },
    {
     "data": {
      "text/plain": [
       "<matplotlib.legend.Legend at 0x1a2f4186d8>"
      ]
     },
     "execution_count": 60,
     "metadata": {},
     "output_type": "execute_result"
    },
    {
     "data": {
      "image/png": "[encoded data removed]",
      "text/plain": [
       "<Figure size 1440x360 with 3 Axes>"
      ]
     },
     "metadata": {
      "needs_background": "light"
     },
     "output_type": "display_data"
    }
   ],
   "source": [
    "# PR plots for the same classifiers\n",
    "from sklearn.metrics import precision_recall_curve, recall_score\n",
    "fig, axes = plt.subplots(nrows=1, ncols=3, figsize=(20, 5))\n",
    "\n",
    "# 80% plots\n",
    "lr_precision, lr_recall, _ = precision_recall_curve(y_test, y_score_LR)\n",
    "svm_precision, svm_recall, _ = precision_recall_curve(y_test, y_score_svm)\n",
    "AB_precision, AB_recall, _ = precision_recall_curve(y_test, y_score_AB)\n",
    "auc_lr = recall_score(y_test, preds_LR)\n",
    "auc_svm = recall_score(y_test, preds_svm)\n",
    "auc_AB = recall_score(y_test, preds_AB)\n",
    "print('0.8 PR AUC: %.3f' % auc_lr)\n",
    "print('0.8 PR AUC: %.3f' % auc_svm)\n",
    "print('0.8 PR AUC: %.3f' % auc_AB)\n",
    "axes[0].plot(lr_recall, lr_precision, marker='.', label='Logistic')\n",
    "axes[0].plot(svm_recall, svm_precision, marker='.', label='SVM')\n",
    "axes[0].plot(AB_recall, AB_precision, marker='.', label='AdaBoost')\n",
    "axes[0].legend()\n",
    "\n",
    "# # 60% plots\n",
    "# # precision_LR_6, recall_LR_6, _ = precision_recall_curve(y_test, y_score_LR_6)\n",
    "# AB_precision_6, AB_recall_6, _ = precision_recall_curve(y_test, y_score_AB_6)\n",
    "# # auc_lr_6 = recall_score(y_test, preds_LR_6)\n",
    "# auc_AB_6 = recall_score(y_test, preds_AB_6)\n",
    "# # print('0.6 PR AUC: %.3f' % auc_lr)\n",
    "# print('0.6 PR AUC: %.3f' % auc_AB)\n",
    "# # axes[1].plot(lr_recall, lr_precision, marker='.', label='Logistic')\n",
    "# axes[1].plot(AB_recall, AB_precision, marker='.', label='AdaBoost')\n",
    "# axes[1].legend()\n",
    "\n",
    "# # 20% plots\n",
    "# precision_LR_2, recall_LR_2, _ = precision_recall_curve(y_test, y_score_LR_2)\n",
    "# AB_precision_2, AB_recall_2, _ = precision_recall_curve(y_test, y_score_AB_2)\n",
    "# auc_lr_2 = recall_score(y_test, preds_LR_2)\n",
    "# auc_AB_2 = recall_score(y_test, preds_AB_2)\n",
    "# print('0.2 PR AUC: %.3f' % auc_lr_2)\n",
    "# print('0.2 PR AUC: %.3f' % auc_AB_2)\n",
    "# axes[2].plot(lr_recall_2, lr_precision_2, marker='.', label='Logistic')\n",
    "# axes[2].plot(AB_recall_2, AB_precision_2, marker='.', label='AdaBoost')\n",
    "# axes[2].legend()\n"
   ]
  },
  {
   "cell_type": "markdown",
   "metadata": {},
   "source": [
    "## Inclusion of the SV time"
   ]
  },
  {
   "cell_type": "code",
   "execution_count": 58,
   "metadata": {},
   "outputs": [],
   "source": [
    "df_2_features  = df.loc[:,['Cn0DbHz','Residual', 'Label']]"
   ]
  },
  {
   "cell_type": "code",
   "execution_count": 59,
   "metadata": {},
   "outputs": [],
   "source": [
    "df_2_features = df_2_features.dropna()"
   ]
  },
  {
   "cell_type": "code",
   "execution_count": 60,
   "metadata": {},
   "outputs": [
    {
     "data": {
      "text/plain": [
       " 47.999996     1\n",
       "-13.305800     1\n",
       " 74.443966     1\n",
       "-53.507524     1\n",
       " 53.097248     1\n",
       "-106.444701    1\n",
       " 37.222524     1\n",
       " 14.521721     1\n",
       "-26.548890     1\n",
       "-13.274480     1\n",
       "-86.395976     1\n",
       "-74.446218     1\n",
       "-37.223063     1\n",
       " 37.098198     1\n",
       "-12.873742     1\n",
       " 53.096711     1\n",
       " 2.318648      1\n",
       "-37.223482     1\n",
       " 53.098462     1\n",
       " 31.308125     1\n",
       "-4.637351      1\n",
       "-37.098874     1\n",
       " 26.611996     1\n",
       " 53.224030     1\n",
       " 9.274794      1\n",
       "-69.735077     1\n",
       "-8.507346      1\n",
       " 18.310483     1\n",
       "-56.522024     1\n",
       " 13.274157     1\n",
       "              ..\n",
       "-21.140779     1\n",
       "-49.397725     1\n",
       "-84.372784     1\n",
       " 5.308586      1\n",
       " 21.236378     1\n",
       " 169.609940    1\n",
       " 6.834768      1\n",
       "-21.236167     1\n",
       "-116.806284    1\n",
       " 84.943380     1\n",
       " 75.527028     1\n",
       " 21.235749     1\n",
       "-21.201784     1\n",
       "-65.851351     1\n",
       " 6.224061      1\n",
       " 10.569706     1\n",
       " 10.601029     1\n",
       "-21.202145     1\n",
       "-29.202354     1\n",
       "-67.585880     1\n",
       "-58.404908     1\n",
       "-2.650314      1\n",
       " 42.001666     1\n",
       "-59.095950     1\n",
       "-29.202717     1\n",
       " 10.617355     1\n",
       "-21.202822     1\n",
       "-21.725317     1\n",
       " 42.406178     1\n",
       "-32.000016     1\n",
       "Name: Residual, Length: 121140, dtype: int64"
      ]
     },
     "execution_count": 60,
     "metadata": {},
     "output_type": "execute_result"
    }
   ],
   "source": [
    "df_2_features['Residual'].value_counts(dropna=False)"
   ]
  },
  {
   "cell_type": "code",
   "execution_count": 30,
   "metadata": {},
   "outputs": [],
   "source": [
    "df_2_features = df_2_features.reset_index()"
   ]
  },
  {
   "cell_type": "code",
   "execution_count": 62,
   "metadata": {},
   "outputs": [],
   "source": [
    "def transf_labels(l1):\n",
    "    if l1 == 'NLOS':\n",
    "        return 0\n",
    "    else:\n",
    "        return 1"
   ]
  },
  {
   "cell_type": "code",
   "execution_count": 63,
   "metadata": {},
   "outputs": [],
   "source": [
    "df_2_features['Label'] = df_2_features['Label'].apply(transf_labels)"
   ]
  },
  {
   "cell_type": "code",
   "execution_count": 66,
   "metadata": {},
   "outputs": [],
   "source": [
    "X =  df_2_features.loc[:,['Cn0DbHz','Residual']].values.tolist()\n",
    "y =  df_2_features['Label'].values.tolist()"
   ]
  },
  {
   "cell_type": "code",
   "execution_count": 67,
   "metadata": {},
   "outputs": [],
   "source": [
    "from sklearn.model_selection import train_test_split\n",
    "X_train, X_test, y_train, y_test = train_test_split(X, y, test_size=0.9, random_state=42)"
   ]
  },
  {
   "cell_type": "code",
   "execution_count": 68,
   "metadata": {},
   "outputs": [
    {
     "data": {
      "text/plain": [
       "Cn0DbHz     float64\n",
       "Residual    float64\n",
       "Label         int64\n",
       "dtype: object"
      ]
     },
     "execution_count": 68,
     "metadata": {},
     "output_type": "execute_result"
    }
   ],
   "source": [
    "df_2_features.dtypes"
   ]
  },
  {
   "cell_type": "code",
   "execution_count": 69,
   "metadata": {},
   "outputs": [
    {
     "name": "stderr",
     "output_type": "stream",
     "text": [
      "/Users/nishitbiswas/anaconda3/lib/python3.7/site-packages/sklearn/linear_model/logistic.py:433: FutureWarning: Default solver will be changed to 'lbfgs' in 0.22. Specify a solver to silence this warning.\n",
      "  FutureWarning)\n"
     ]
    }
   ],
   "source": [
    "from sklearn.linear_model import LogisticRegression\n",
    "clf = LogisticRegression()\n",
    "clf = clf.fit(X_train, y_train)"
   ]
  },
  {
   "cell_type": "code",
   "execution_count": 70,
   "metadata": {},
   "outputs": [],
   "source": [
    "preds = clf.predict(X_test)"
   ]
  },
  {
   "cell_type": "code",
   "execution_count": 71,
   "metadata": {},
   "outputs": [
    {
     "name": "stdout",
     "output_type": "stream",
     "text": [
      "89052\n"
     ]
    }
   ],
   "source": [
    "preds = list(preds)\n",
    "score = 0\n",
    "for x1 in range(len(preds)):\n",
    "    if preds[x1] == y_test[x1]:\n",
    "        score+= 1\n",
    "print(score)\n",
    "    "
   ]
  },
  {
   "cell_type": "code",
   "execution_count": 72,
   "metadata": {},
   "outputs": [
    {
     "data": {
      "text/plain": [
       "0.8167959936162016"
      ]
     },
     "execution_count": 72,
     "metadata": {},
     "output_type": "execute_result"
    }
   ],
   "source": [
    "score/len(preds)"
   ]
  },
  {
   "cell_type": "code",
   "execution_count": 36,
   "metadata": {},
   "outputs": [],
   "source": [
    "from sklearn.ensemble import AdaBoostClassifier"
   ]
  },
  {
   "cell_type": "code",
   "execution_count": 37,
   "metadata": {},
   "outputs": [
    {
     "data": {
      "text/plain": [
       "AdaBoostClassifier(algorithm='SAMME.R', base_estimator=None,\n",
       "          learning_rate=1.0, n_estimators=100, random_state=0)"
      ]
     },
     "execution_count": 37,
     "metadata": {},
     "output_type": "execute_result"
    }
   ],
   "source": [
    "from sklearn.ensemble import AdaBoostClassifier\n",
    "clf = clf_6 = clf_2 = AdaBoostClassifier(n_estimators=100, random_state=0)\n",
    "clf.fit(X_train, y_train)"
   ]
  },
  {
   "cell_type": "code",
   "execution_count": 38,
   "metadata": {},
   "outputs": [],
   "source": [
    "ada_preds = clf.predict(np.array(X_test).reshape(-1, 1))"
   ]
  },
  {
   "cell_type": "code",
   "execution_count": 39,
   "metadata": {},
   "outputs": [
    {
     "name": "stdout",
     "output_type": "stream",
     "text": [
      "78903\n"
     ]
    }
   ],
   "source": [
    "ada_preds = list(ada_preds)\n",
    "score = 0\n",
    "for x1 in range(len(ada_preds)):\n",
    "    if ada_preds[x1] == y_test[x1]:\n",
    "        score+= 1\n",
    "print(score)\n",
    "    "
   ]
  },
  {
   "cell_type": "code",
   "execution_count": 77,
   "metadata": {},
   "outputs": [
    {
     "data": {
      "text/plain": [
       "0.8155761011134959"
      ]
     },
     "execution_count": 77,
     "metadata": {},
     "output_type": "execute_result"
    }
   ],
   "source": [
    "score/len(preds)"
   ]
  },
  {
   "cell_type": "code",
   "execution_count": 32,
   "metadata": {},
   "outputs": [],
   "source": [
    "from sklearn.ensemble import GradientBoostingClassifier\n",
    "clf = GradientBoostingClassifier(n_estimators=200, learning_rate=1.0,\n",
    "                                 max_depth=1, random_state=0).fit(X_train, y_train)"
   ]
  },
  {
   "cell_type": "code",
   "execution_count": 34,
   "metadata": {},
   "outputs": [],
   "source": [
    "gb_preds = clf.predict(np.array(X_test).reshape(-1, 1))\n",
    "y_score_gb = clf.predict_proba(np.array(X_test).reshape(-1, 1))\n",
    "y_score_AB = y_score_AB[:, 1]\n",
    "y_score_AB = [x for x in y_score_AB]"
   ]
  },
  {
   "cell_type": "code",
   "execution_count": null,
   "metadata": {},
   "outputs": [],
   "source": [
    "preds_AB = clf.predict(np.array(X_test).reshape(-1, 1))\n",
    "y_score_AB = clf.predict_proba(np.array(X_test).reshape(-1, 1))\n",
    "y_score_AB = y_score_AB[:, 1]\n",
    "y_score_AB = [x for x in y_score_AB]"
   ]
  },
  {
   "cell_type": "code",
   "execution_count": 35,
   "metadata": {},
   "outputs": [
    {
     "name": "stdout",
     "output_type": "stream",
     "text": [
      "78879\n",
      "0.8139239722634968\n"
     ]
    }
   ],
   "source": [
    "gb_preds = list(gb_preds)\n",
    "score = 0\n",
    "for x1 in range(len(gb_preds)):\n",
    "    if gb_preds[x1] == y_test[x1]:\n",
    "        score+= 1\n",
    "print(score)\n",
    "print(score/len(gb_preds))"
   ]
  },
  {
   "cell_type": "code",
   "execution_count": null,
   "metadata": {},
   "outputs": [],
   "source": []
  }
 ],
 "metadata": {
  "kernelspec": {
   "display_name": "Python 3",
   "language": "python",
   "name": "python3"
  },
  "language_info": {
   "codemirror_mode": {
    "name": "ipython",
    "version": 3
   },
   "file_extension": ".py",
   "mimetype": "text/x-python",
   "name": "python",
   "nbconvert_exporter": "python",
   "pygments_lexer": "ipython3",
   "version": "3.7.1"
  }
 },
 "nbformat": 4,
 "nbformat_minor": 2
}
